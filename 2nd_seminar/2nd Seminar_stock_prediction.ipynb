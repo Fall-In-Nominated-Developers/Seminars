{
 "cells": [
  {
   "cell_type": "code",
   "execution_count": 1,
   "metadata": {
    "collapsed": true
   },
   "outputs": [],
   "source": [
    "from sklearn import datasets\n",
    "from sklearn import linear_model\n",
    "import numpy as np\n",
    "import pandas as pd\n",
    "import matplotlib.pyplot as plt"
   ]
  },
  {
   "cell_type": "code",
   "execution_count": 2,
   "metadata": {
    "collapsed": false
   },
   "outputs": [],
   "source": [
    "df = pd.read_csv(\"./kospi.csv\")"
   ]
  },
  {
   "cell_type": "code",
   "execution_count": 3,
   "metadata": {
    "collapsed": false
   },
   "outputs": [
    {
     "data": {
      "text/html": [
       "<div>\n",
       "<table border=\"1\" class=\"dataframe\">\n",
       "  <thead>\n",
       "    <tr style=\"text-align: right;\">\n",
       "      <th></th>\n",
       "      <th>Date</th>\n",
       "      <th>Open</th>\n",
       "      <th>High</th>\n",
       "      <th>Low</th>\n",
       "      <th>Close</th>\n",
       "      <th>Volume</th>\n",
       "    </tr>\n",
       "  </thead>\n",
       "  <tbody>\n",
       "    <tr>\n",
       "      <th>0</th>\n",
       "      <td>19-Sep-17</td>\n",
       "      <td>2419.30</td>\n",
       "      <td>2422.05</td>\n",
       "      <td>2411.68</td>\n",
       "      <td>2416.05</td>\n",
       "      <td>254585000</td>\n",
       "    </tr>\n",
       "    <tr>\n",
       "      <th>1</th>\n",
       "      <td>18-Sep-17</td>\n",
       "      <td>2390.58</td>\n",
       "      <td>2418.24</td>\n",
       "      <td>2389.65</td>\n",
       "      <td>2418.21</td>\n",
       "      <td>273477000</td>\n",
       "    </tr>\n",
       "    <tr>\n",
       "      <th>2</th>\n",
       "      <td>15-Sep-17</td>\n",
       "      <td>2368.44</td>\n",
       "      <td>2386.07</td>\n",
       "      <td>2365.37</td>\n",
       "      <td>2386.07</td>\n",
       "      <td>298738000</td>\n",
       "    </tr>\n",
       "    <tr>\n",
       "      <th>3</th>\n",
       "      <td>14-Sep-17</td>\n",
       "      <td>2365.54</td>\n",
       "      <td>2377.66</td>\n",
       "      <td>2358.43</td>\n",
       "      <td>2377.66</td>\n",
       "      <td>314262000</td>\n",
       "    </tr>\n",
       "    <tr>\n",
       "      <th>4</th>\n",
       "      <td>13-Sep-17</td>\n",
       "      <td>2370.54</td>\n",
       "      <td>2373.61</td>\n",
       "      <td>2360.17</td>\n",
       "      <td>2360.18</td>\n",
       "      <td>318871000</td>\n",
       "    </tr>\n",
       "    <tr>\n",
       "      <th>5</th>\n",
       "      <td>12-Sep-17</td>\n",
       "      <td>2372.02</td>\n",
       "      <td>2372.45</td>\n",
       "      <td>2359.12</td>\n",
       "      <td>2365.47</td>\n",
       "      <td>333573000</td>\n",
       "    </tr>\n",
       "    <tr>\n",
       "      <th>6</th>\n",
       "      <td>11-Sep-17</td>\n",
       "      <td>2354.86</td>\n",
       "      <td>2369.72</td>\n",
       "      <td>2354.35</td>\n",
       "      <td>2359.08</td>\n",
       "      <td>243612000</td>\n",
       "    </tr>\n",
       "    <tr>\n",
       "      <th>7</th>\n",
       "      <td>8-Sep-17</td>\n",
       "      <td>2350.19</td>\n",
       "      <td>2351.73</td>\n",
       "      <td>2340.63</td>\n",
       "      <td>2343.72</td>\n",
       "      <td>214592000</td>\n",
       "    </tr>\n",
       "    <tr>\n",
       "      <th>8</th>\n",
       "      <td>7-Sep-17</td>\n",
       "      <td>2328.94</td>\n",
       "      <td>2349.79</td>\n",
       "      <td>2328.92</td>\n",
       "      <td>2346.19</td>\n",
       "      <td>277036000</td>\n",
       "    </tr>\n",
       "    <tr>\n",
       "      <th>9</th>\n",
       "      <td>6-Sep-17</td>\n",
       "      <td>2324.84</td>\n",
       "      <td>2325.56</td>\n",
       "      <td>2314.31</td>\n",
       "      <td>2319.82</td>\n",
       "      <td>252681000</td>\n",
       "    </tr>\n",
       "    <tr>\n",
       "      <th>10</th>\n",
       "      <td>5-Sep-17</td>\n",
       "      <td>2340.62</td>\n",
       "      <td>2340.62</td>\n",
       "      <td>2319.94</td>\n",
       "      <td>2326.62</td>\n",
       "      <td>320428000</td>\n",
       "    </tr>\n",
       "    <tr>\n",
       "      <th>11</th>\n",
       "      <td>4-Sep-17</td>\n",
       "      <td>2316.89</td>\n",
       "      <td>2344.82</td>\n",
       "      <td>2316.89</td>\n",
       "      <td>2329.65</td>\n",
       "      <td>248494000</td>\n",
       "    </tr>\n",
       "    <tr>\n",
       "      <th>12</th>\n",
       "      <td>1-Sep-17</td>\n",
       "      <td>2367.45</td>\n",
       "      <td>2370.25</td>\n",
       "      <td>2351.37</td>\n",
       "      <td>2357.69</td>\n",
       "      <td>280059000</td>\n",
       "    </tr>\n",
       "    <tr>\n",
       "      <th>13</th>\n",
       "      <td>31-Aug-17</td>\n",
       "      <td>2373.96</td>\n",
       "      <td>2377.02</td>\n",
       "      <td>2355.29</td>\n",
       "      <td>2363.19</td>\n",
       "      <td>265050000</td>\n",
       "    </tr>\n",
       "    <tr>\n",
       "      <th>14</th>\n",
       "      <td>30-Aug-17</td>\n",
       "      <td>2368.13</td>\n",
       "      <td>2372.29</td>\n",
       "      <td>2363.43</td>\n",
       "      <td>2372.29</td>\n",
       "      <td>305636000</td>\n",
       "    </tr>\n",
       "    <tr>\n",
       "      <th>15</th>\n",
       "      <td>29-Aug-17</td>\n",
       "      <td>2356.20</td>\n",
       "      <td>2364.74</td>\n",
       "      <td>2332.85</td>\n",
       "      <td>2364.74</td>\n",
       "      <td>223089000</td>\n",
       "    </tr>\n",
       "    <tr>\n",
       "      <th>16</th>\n",
       "      <td>28-Aug-17</td>\n",
       "      <td>2376.38</td>\n",
       "      <td>2383.46</td>\n",
       "      <td>2366.23</td>\n",
       "      <td>2370.30</td>\n",
       "      <td>226868000</td>\n",
       "    </tr>\n",
       "    <tr>\n",
       "      <th>17</th>\n",
       "      <td>25-Aug-17</td>\n",
       "      <td>2381.47</td>\n",
       "      <td>2384.59</td>\n",
       "      <td>2372.67</td>\n",
       "      <td>2378.51</td>\n",
       "      <td>341960000</td>\n",
       "    </tr>\n",
       "    <tr>\n",
       "      <th>18</th>\n",
       "      <td>24-Aug-17</td>\n",
       "      <td>2370.12</td>\n",
       "      <td>2382.72</td>\n",
       "      <td>2368.29</td>\n",
       "      <td>2375.84</td>\n",
       "      <td>295530000</td>\n",
       "    </tr>\n",
       "    <tr>\n",
       "      <th>19</th>\n",
       "      <td>23-Aug-17</td>\n",
       "      <td>2376.53</td>\n",
       "      <td>2379.59</td>\n",
       "      <td>2360.71</td>\n",
       "      <td>2366.40</td>\n",
       "      <td>228615000</td>\n",
       "    </tr>\n",
       "    <tr>\n",
       "      <th>20</th>\n",
       "      <td>22-Aug-17</td>\n",
       "      <td>2360.29</td>\n",
       "      <td>2369.02</td>\n",
       "      <td>2359.97</td>\n",
       "      <td>2365.33</td>\n",
       "      <td>251864000</td>\n",
       "    </tr>\n",
       "    <tr>\n",
       "      <th>21</th>\n",
       "      <td>21-Aug-17</td>\n",
       "      <td>2363.38</td>\n",
       "      <td>2363.38</td>\n",
       "      <td>2351.96</td>\n",
       "      <td>2355.00</td>\n",
       "      <td>207225000</td>\n",
       "    </tr>\n",
       "    <tr>\n",
       "      <th>22</th>\n",
       "      <td>18-Aug-17</td>\n",
       "      <td>2340.19</td>\n",
       "      <td>2362.43</td>\n",
       "      <td>2340.19</td>\n",
       "      <td>2358.37</td>\n",
       "      <td>201479000</td>\n",
       "    </tr>\n",
       "    <tr>\n",
       "      <th>23</th>\n",
       "      <td>17-Aug-17</td>\n",
       "      <td>2351.61</td>\n",
       "      <td>2364.50</td>\n",
       "      <td>2346.74</td>\n",
       "      <td>2361.67</td>\n",
       "      <td>255766000</td>\n",
       "    </tr>\n",
       "    <tr>\n",
       "      <th>24</th>\n",
       "      <td>16-Aug-17</td>\n",
       "      <td>2355.74</td>\n",
       "      <td>2358.46</td>\n",
       "      <td>2343.72</td>\n",
       "      <td>2348.26</td>\n",
       "      <td>270520000</td>\n",
       "    </tr>\n",
       "    <tr>\n",
       "      <th>25</th>\n",
       "      <td>14-Aug-17</td>\n",
       "      <td>2336.02</td>\n",
       "      <td>2341.78</td>\n",
       "      <td>2327.80</td>\n",
       "      <td>2334.22</td>\n",
       "      <td>214025000</td>\n",
       "    </tr>\n",
       "    <tr>\n",
       "      <th>26</th>\n",
       "      <td>11-Aug-17</td>\n",
       "      <td>2323.06</td>\n",
       "      <td>2335.12</td>\n",
       "      <td>2310.20</td>\n",
       "      <td>2319.71</td>\n",
       "      <td>318581000</td>\n",
       "    </tr>\n",
       "    <tr>\n",
       "      <th>27</th>\n",
       "      <td>10-Aug-17</td>\n",
       "      <td>2360.95</td>\n",
       "      <td>2371.50</td>\n",
       "      <td>2339.06</td>\n",
       "      <td>2359.47</td>\n",
       "      <td>283873000</td>\n",
       "    </tr>\n",
       "    <tr>\n",
       "      <th>28</th>\n",
       "      <td>9-Aug-17</td>\n",
       "      <td>2379.70</td>\n",
       "      <td>2387.53</td>\n",
       "      <td>2366.33</td>\n",
       "      <td>2368.39</td>\n",
       "      <td>234073000</td>\n",
       "    </tr>\n",
       "    <tr>\n",
       "      <th>29</th>\n",
       "      <td>8-Aug-17</td>\n",
       "      <td>2404.68</td>\n",
       "      <td>2410.22</td>\n",
       "      <td>2383.94</td>\n",
       "      <td>2394.73</td>\n",
       "      <td>252853000</td>\n",
       "    </tr>\n",
       "    <tr>\n",
       "      <th>...</th>\n",
       "      <td>...</td>\n",
       "      <td>...</td>\n",
       "      <td>...</td>\n",
       "      <td>...</td>\n",
       "      <td>...</td>\n",
       "      <td>...</td>\n",
       "    </tr>\n",
       "    <tr>\n",
       "      <th>219</th>\n",
       "      <td>2-Nov-16</td>\n",
       "      <td>1995.41</td>\n",
       "      <td>1997.46</td>\n",
       "      <td>1976.34</td>\n",
       "      <td>1978.94</td>\n",
       "      <td>333529000</td>\n",
       "    </tr>\n",
       "    <tr>\n",
       "      <th>220</th>\n",
       "      <td>1-Nov-16</td>\n",
       "      <td>2003.41</td>\n",
       "      <td>2010.51</td>\n",
       "      <td>1990.45</td>\n",
       "      <td>2007.39</td>\n",
       "      <td>321774000</td>\n",
       "    </tr>\n",
       "    <tr>\n",
       "      <th>221</th>\n",
       "      <td>31-Oct-16</td>\n",
       "      <td>2011.29</td>\n",
       "      <td>2016.01</td>\n",
       "      <td>2005.95</td>\n",
       "      <td>2008.19</td>\n",
       "      <td>400664000</td>\n",
       "    </tr>\n",
       "    <tr>\n",
       "      <th>222</th>\n",
       "      <td>28-Oct-16</td>\n",
       "      <td>2021.97</td>\n",
       "      <td>2026.85</td>\n",
       "      <td>2015.72</td>\n",
       "      <td>2019.42</td>\n",
       "      <td>270531000</td>\n",
       "    </tr>\n",
       "    <tr>\n",
       "      <th>223</th>\n",
       "      <td>27-Oct-16</td>\n",
       "      <td>2018.24</td>\n",
       "      <td>2026.33</td>\n",
       "      <td>2015.66</td>\n",
       "      <td>2024.12</td>\n",
       "      <td>298690000</td>\n",
       "    </tr>\n",
       "    <tr>\n",
       "      <th>224</th>\n",
       "      <td>26-Oct-16</td>\n",
       "      <td>2030.37</td>\n",
       "      <td>2030.37</td>\n",
       "      <td>2002.29</td>\n",
       "      <td>2013.89</td>\n",
       "      <td>392402000</td>\n",
       "    </tr>\n",
       "    <tr>\n",
       "      <th>225</th>\n",
       "      <td>25-Oct-16</td>\n",
       "      <td>2042.29</td>\n",
       "      <td>2042.65</td>\n",
       "      <td>2031.25</td>\n",
       "      <td>2037.17</td>\n",
       "      <td>299101000</td>\n",
       "    </tr>\n",
       "    <tr>\n",
       "      <th>226</th>\n",
       "      <td>24-Oct-16</td>\n",
       "      <td>2037.19</td>\n",
       "      <td>2047.74</td>\n",
       "      <td>2036.77</td>\n",
       "      <td>2047.74</td>\n",
       "      <td>252041000</td>\n",
       "    </tr>\n",
       "    <tr>\n",
       "      <th>227</th>\n",
       "      <td>21-Oct-16</td>\n",
       "      <td>2039.40</td>\n",
       "      <td>2040.40</td>\n",
       "      <td>2029.79</td>\n",
       "      <td>2033.00</td>\n",
       "      <td>260354000</td>\n",
       "    </tr>\n",
       "    <tr>\n",
       "      <th>228</th>\n",
       "      <td>20-Oct-16</td>\n",
       "      <td>2044.12</td>\n",
       "      <td>2048.25</td>\n",
       "      <td>2036.54</td>\n",
       "      <td>2040.60</td>\n",
       "      <td>276001000</td>\n",
       "    </tr>\n",
       "    <tr>\n",
       "      <th>229</th>\n",
       "      <td>19-Oct-16</td>\n",
       "      <td>2036.18</td>\n",
       "      <td>2050.51</td>\n",
       "      <td>2035.90</td>\n",
       "      <td>2040.94</td>\n",
       "      <td>321940000</td>\n",
       "    </tr>\n",
       "    <tr>\n",
       "      <th>230</th>\n",
       "      <td>18-Oct-16</td>\n",
       "      <td>2027.81</td>\n",
       "      <td>2040.72</td>\n",
       "      <td>2026.47</td>\n",
       "      <td>2040.43</td>\n",
       "      <td>305931000</td>\n",
       "    </tr>\n",
       "    <tr>\n",
       "      <th>231</th>\n",
       "      <td>17-Oct-16</td>\n",
       "      <td>2028.93</td>\n",
       "      <td>2033.56</td>\n",
       "      <td>2011.81</td>\n",
       "      <td>2027.61</td>\n",
       "      <td>333402000</td>\n",
       "    </tr>\n",
       "    <tr>\n",
       "      <th>232</th>\n",
       "      <td>14-Oct-16</td>\n",
       "      <td>2021.66</td>\n",
       "      <td>2028.76</td>\n",
       "      <td>2021.11</td>\n",
       "      <td>2022.66</td>\n",
       "      <td>458904000</td>\n",
       "    </tr>\n",
       "    <tr>\n",
       "      <th>233</th>\n",
       "      <td>13-Oct-16</td>\n",
       "      <td>2033.99</td>\n",
       "      <td>2035.93</td>\n",
       "      <td>2014.89</td>\n",
       "      <td>2015.44</td>\n",
       "      <td>440255000</td>\n",
       "    </tr>\n",
       "    <tr>\n",
       "      <th>234</th>\n",
       "      <td>12-Oct-16</td>\n",
       "      <td>2022.97</td>\n",
       "      <td>2037.02</td>\n",
       "      <td>2022.39</td>\n",
       "      <td>2033.73</td>\n",
       "      <td>297373000</td>\n",
       "    </tr>\n",
       "    <tr>\n",
       "      <th>235</th>\n",
       "      <td>11-Oct-16</td>\n",
       "      <td>2053.29</td>\n",
       "      <td>2060.78</td>\n",
       "      <td>2030.51</td>\n",
       "      <td>2031.93</td>\n",
       "      <td>343215000</td>\n",
       "    </tr>\n",
       "    <tr>\n",
       "      <th>236</th>\n",
       "      <td>10-Oct-16</td>\n",
       "      <td>2047.19</td>\n",
       "      <td>2058.73</td>\n",
       "      <td>2039.99</td>\n",
       "      <td>2056.82</td>\n",
       "      <td>314895000</td>\n",
       "    </tr>\n",
       "    <tr>\n",
       "      <th>237</th>\n",
       "      <td>7-Oct-16</td>\n",
       "      <td>2065.95</td>\n",
       "      <td>2067.49</td>\n",
       "      <td>2051.60</td>\n",
       "      <td>2053.80</td>\n",
       "      <td>422446000</td>\n",
       "    </tr>\n",
       "    <tr>\n",
       "      <th>238</th>\n",
       "      <td>6-Oct-16</td>\n",
       "      <td>2069.30</td>\n",
       "      <td>2070.43</td>\n",
       "      <td>2055.83</td>\n",
       "      <td>2065.30</td>\n",
       "      <td>337709000</td>\n",
       "    </tr>\n",
       "    <tr>\n",
       "      <th>239</th>\n",
       "      <td>5-Oct-16</td>\n",
       "      <td>2043.37</td>\n",
       "      <td>2056.01</td>\n",
       "      <td>2036.87</td>\n",
       "      <td>2053.00</td>\n",
       "      <td>292345000</td>\n",
       "    </tr>\n",
       "    <tr>\n",
       "      <th>240</th>\n",
       "      <td>4-Oct-16</td>\n",
       "      <td>2056.94</td>\n",
       "      <td>2059.25</td>\n",
       "      <td>2050.46</td>\n",
       "      <td>2054.86</td>\n",
       "      <td>318854000</td>\n",
       "    </tr>\n",
       "    <tr>\n",
       "      <th>241</th>\n",
       "      <td>30-Sep-16</td>\n",
       "      <td>2054.25</td>\n",
       "      <td>2056.33</td>\n",
       "      <td>2042.77</td>\n",
       "      <td>2043.63</td>\n",
       "      <td>326386000</td>\n",
       "    </tr>\n",
       "    <tr>\n",
       "      <th>242</th>\n",
       "      <td>29-Sep-16</td>\n",
       "      <td>2063.74</td>\n",
       "      <td>2072.09</td>\n",
       "      <td>2063.74</td>\n",
       "      <td>2068.72</td>\n",
       "      <td>416168000</td>\n",
       "    </tr>\n",
       "    <tr>\n",
       "      <th>243</th>\n",
       "      <td>28-Sep-16</td>\n",
       "      <td>2062.57</td>\n",
       "      <td>2062.98</td>\n",
       "      <td>2051.68</td>\n",
       "      <td>2053.06</td>\n",
       "      <td>546450000</td>\n",
       "    </tr>\n",
       "    <tr>\n",
       "      <th>244</th>\n",
       "      <td>27-Sep-16</td>\n",
       "      <td>2037.32</td>\n",
       "      <td>2064.89</td>\n",
       "      <td>2031.13</td>\n",
       "      <td>2062.82</td>\n",
       "      <td>664040000</td>\n",
       "    </tr>\n",
       "    <tr>\n",
       "      <th>245</th>\n",
       "      <td>26-Sep-16</td>\n",
       "      <td>2052.76</td>\n",
       "      <td>2060.71</td>\n",
       "      <td>2042.70</td>\n",
       "      <td>2047.11</td>\n",
       "      <td>359615000</td>\n",
       "    </tr>\n",
       "    <tr>\n",
       "      <th>246</th>\n",
       "      <td>23-Sep-16</td>\n",
       "      <td>2053.22</td>\n",
       "      <td>2057.35</td>\n",
       "      <td>2048.96</td>\n",
       "      <td>2054.07</td>\n",
       "      <td>494112000</td>\n",
       "    </tr>\n",
       "    <tr>\n",
       "      <th>247</th>\n",
       "      <td>22-Sep-16</td>\n",
       "      <td>2050.31</td>\n",
       "      <td>2060.26</td>\n",
       "      <td>2048.80</td>\n",
       "      <td>2049.70</td>\n",
       "      <td>447589000</td>\n",
       "    </tr>\n",
       "    <tr>\n",
       "      <th>248</th>\n",
       "      <td>21-Sep-16</td>\n",
       "      <td>2022.81</td>\n",
       "      <td>2035.99</td>\n",
       "      <td>2021.78</td>\n",
       "      <td>2035.99</td>\n",
       "      <td>525096000</td>\n",
       "    </tr>\n",
       "  </tbody>\n",
       "</table>\n",
       "<p>249 rows × 6 columns</p>\n",
       "</div>"
      ],
      "text/plain": [
       "          Date     Open     High      Low    Close     Volume\n",
       "0    19-Sep-17  2419.30  2422.05  2411.68  2416.05  254585000\n",
       "1    18-Sep-17  2390.58  2418.24  2389.65  2418.21  273477000\n",
       "2    15-Sep-17  2368.44  2386.07  2365.37  2386.07  298738000\n",
       "3    14-Sep-17  2365.54  2377.66  2358.43  2377.66  314262000\n",
       "4    13-Sep-17  2370.54  2373.61  2360.17  2360.18  318871000\n",
       "5    12-Sep-17  2372.02  2372.45  2359.12  2365.47  333573000\n",
       "6    11-Sep-17  2354.86  2369.72  2354.35  2359.08  243612000\n",
       "7     8-Sep-17  2350.19  2351.73  2340.63  2343.72  214592000\n",
       "8     7-Sep-17  2328.94  2349.79  2328.92  2346.19  277036000\n",
       "9     6-Sep-17  2324.84  2325.56  2314.31  2319.82  252681000\n",
       "10    5-Sep-17  2340.62  2340.62  2319.94  2326.62  320428000\n",
       "11    4-Sep-17  2316.89  2344.82  2316.89  2329.65  248494000\n",
       "12    1-Sep-17  2367.45  2370.25  2351.37  2357.69  280059000\n",
       "13   31-Aug-17  2373.96  2377.02  2355.29  2363.19  265050000\n",
       "14   30-Aug-17  2368.13  2372.29  2363.43  2372.29  305636000\n",
       "15   29-Aug-17  2356.20  2364.74  2332.85  2364.74  223089000\n",
       "16   28-Aug-17  2376.38  2383.46  2366.23  2370.30  226868000\n",
       "17   25-Aug-17  2381.47  2384.59  2372.67  2378.51  341960000\n",
       "18   24-Aug-17  2370.12  2382.72  2368.29  2375.84  295530000\n",
       "19   23-Aug-17  2376.53  2379.59  2360.71  2366.40  228615000\n",
       "20   22-Aug-17  2360.29  2369.02  2359.97  2365.33  251864000\n",
       "21   21-Aug-17  2363.38  2363.38  2351.96  2355.00  207225000\n",
       "22   18-Aug-17  2340.19  2362.43  2340.19  2358.37  201479000\n",
       "23   17-Aug-17  2351.61  2364.50  2346.74  2361.67  255766000\n",
       "24   16-Aug-17  2355.74  2358.46  2343.72  2348.26  270520000\n",
       "25   14-Aug-17  2336.02  2341.78  2327.80  2334.22  214025000\n",
       "26   11-Aug-17  2323.06  2335.12  2310.20  2319.71  318581000\n",
       "27   10-Aug-17  2360.95  2371.50  2339.06  2359.47  283873000\n",
       "28    9-Aug-17  2379.70  2387.53  2366.33  2368.39  234073000\n",
       "29    8-Aug-17  2404.68  2410.22  2383.94  2394.73  252853000\n",
       "..         ...      ...      ...      ...      ...        ...\n",
       "219   2-Nov-16  1995.41  1997.46  1976.34  1978.94  333529000\n",
       "220   1-Nov-16  2003.41  2010.51  1990.45  2007.39  321774000\n",
       "221  31-Oct-16  2011.29  2016.01  2005.95  2008.19  400664000\n",
       "222  28-Oct-16  2021.97  2026.85  2015.72  2019.42  270531000\n",
       "223  27-Oct-16  2018.24  2026.33  2015.66  2024.12  298690000\n",
       "224  26-Oct-16  2030.37  2030.37  2002.29  2013.89  392402000\n",
       "225  25-Oct-16  2042.29  2042.65  2031.25  2037.17  299101000\n",
       "226  24-Oct-16  2037.19  2047.74  2036.77  2047.74  252041000\n",
       "227  21-Oct-16  2039.40  2040.40  2029.79  2033.00  260354000\n",
       "228  20-Oct-16  2044.12  2048.25  2036.54  2040.60  276001000\n",
       "229  19-Oct-16  2036.18  2050.51  2035.90  2040.94  321940000\n",
       "230  18-Oct-16  2027.81  2040.72  2026.47  2040.43  305931000\n",
       "231  17-Oct-16  2028.93  2033.56  2011.81  2027.61  333402000\n",
       "232  14-Oct-16  2021.66  2028.76  2021.11  2022.66  458904000\n",
       "233  13-Oct-16  2033.99  2035.93  2014.89  2015.44  440255000\n",
       "234  12-Oct-16  2022.97  2037.02  2022.39  2033.73  297373000\n",
       "235  11-Oct-16  2053.29  2060.78  2030.51  2031.93  343215000\n",
       "236  10-Oct-16  2047.19  2058.73  2039.99  2056.82  314895000\n",
       "237   7-Oct-16  2065.95  2067.49  2051.60  2053.80  422446000\n",
       "238   6-Oct-16  2069.30  2070.43  2055.83  2065.30  337709000\n",
       "239   5-Oct-16  2043.37  2056.01  2036.87  2053.00  292345000\n",
       "240   4-Oct-16  2056.94  2059.25  2050.46  2054.86  318854000\n",
       "241  30-Sep-16  2054.25  2056.33  2042.77  2043.63  326386000\n",
       "242  29-Sep-16  2063.74  2072.09  2063.74  2068.72  416168000\n",
       "243  28-Sep-16  2062.57  2062.98  2051.68  2053.06  546450000\n",
       "244  27-Sep-16  2037.32  2064.89  2031.13  2062.82  664040000\n",
       "245  26-Sep-16  2052.76  2060.71  2042.70  2047.11  359615000\n",
       "246  23-Sep-16  2053.22  2057.35  2048.96  2054.07  494112000\n",
       "247  22-Sep-16  2050.31  2060.26  2048.80  2049.70  447589000\n",
       "248  21-Sep-16  2022.81  2035.99  2021.78  2035.99  525096000\n",
       "\n",
       "[249 rows x 6 columns]"
      ]
     },
     "execution_count": 3,
     "metadata": {},
     "output_type": "execute_result"
    }
   ],
   "source": [
    "df"
   ]
  },
  {
   "cell_type": "code",
   "execution_count": 4,
   "metadata": {
    "collapsed": false
   },
   "outputs": [
    {
     "data": {
      "text/plain": [
       "(249, 6)"
      ]
     },
     "execution_count": 4,
     "metadata": {},
     "output_type": "execute_result"
    }
   ],
   "source": [
    "df.shape"
   ]
  },
  {
   "cell_type": "code",
   "execution_count": 5,
   "metadata": {
    "collapsed": true
   },
   "outputs": [],
   "source": [
    "X_train = df['Open']"
   ]
  },
  {
   "cell_type": "code",
   "execution_count": 6,
   "metadata": {
    "collapsed": true
   },
   "outputs": [],
   "source": [
    "Y_train = df['Close']"
   ]
  },
  {
   "cell_type": "code",
   "execution_count": 7,
   "metadata": {
    "collapsed": false
   },
   "outputs": [
    {
     "data": {
      "text/plain": [
       "(249,)"
      ]
     },
     "execution_count": 7,
     "metadata": {},
     "output_type": "execute_result"
    }
   ],
   "source": [
    "X_train.shape"
   ]
  },
  {
   "cell_type": "code",
   "execution_count": 8,
   "metadata": {
    "collapsed": false
   },
   "outputs": [
    {
     "name": "stderr",
     "output_type": "stream",
     "text": [
      "/Users/jason/dev/mlenv/lib/python3.5/site-packages/ipykernel_launcher.py:1: FutureWarning: reshape is deprecated and will raise in a subsequent release. Please use .values.reshape(...) instead\n",
      "  \"\"\"Entry point for launching an IPython kernel.\n"
     ]
    }
   ],
   "source": [
    "X_train = X_train.reshape(249,1)"
   ]
  },
  {
   "cell_type": "code",
   "execution_count": 9,
   "metadata": {
    "collapsed": false
   },
   "outputs": [
    {
     "name": "stderr",
     "output_type": "stream",
     "text": [
      "/Users/jason/dev/mlenv/lib/python3.5/site-packages/ipykernel_launcher.py:1: FutureWarning: reshape is deprecated and will raise in a subsequent release. Please use .values.reshape(...) instead\n",
      "  \"\"\"Entry point for launching an IPython kernel.\n"
     ]
    }
   ],
   "source": [
    "Y_train = Y_train.reshape(249,1)"
   ]
  },
  {
   "cell_type": "code",
   "execution_count": 10,
   "metadata": {
    "collapsed": false
   },
   "outputs": [
    {
     "data": {
      "text/plain": [
       "(249, 1)"
      ]
     },
     "execution_count": 10,
     "metadata": {},
     "output_type": "execute_result"
    }
   ],
   "source": [
    "X_train.shape  # the size of X_train"
   ]
  },
  {
   "cell_type": "code",
   "execution_count": 11,
   "metadata": {
    "collapsed": false
   },
   "outputs": [
    {
     "name": "stderr",
     "output_type": "stream",
     "text": [
      "/Users/jason/dev/mlenv/lib/python3.5/site-packages/scipy/linalg/basic.py:1018: RuntimeWarning: internal gelsd driver lwork query error, required iwork dimension not returned. This is likely the result of LAPACK bug 0038, fixed in LAPACK 3.2.2 (released July 21, 2010). Falling back to 'gelss' driver.\n",
      "  warnings.warn(mesg, RuntimeWarning)\n"
     ]
    },
    {
     "data": {
      "text/plain": [
       "LinearRegression(copy_X=True, fit_intercept=True, n_jobs=1, normalize=False)"
      ]
     },
     "execution_count": 11,
     "metadata": {},
     "output_type": "execute_result"
    }
   ],
   "source": [
    "lr = linear_model.LinearRegression()\n",
    "\n",
    "# Train the model using the training sets\n",
    "lr.fit(X_train, Y_train)# Make predictions using the testing set"
   ]
  },
  {
   "cell_type": "code",
   "execution_count": 12,
   "metadata": {
    "collapsed": false
   },
   "outputs": [],
   "source": [
    "X_test = np.array([[2420.82], [2412.01]])\n",
    "# Y_test = np.array([[2414.01]])"
   ]
  },
  {
   "cell_type": "code",
   "execution_count": 13,
   "metadata": {
    "collapsed": false
   },
   "outputs": [],
   "source": [
    "# Make predictions using the testing set\n",
    "Y_pred = lr.predict(X_test)"
   ]
  },
  {
   "cell_type": "code",
   "execution_count": 14,
   "metadata": {
    "collapsed": false
   },
   "outputs": [
    {
     "data": {
      "text/plain": [
       "array([[ 2421.02189256],\n",
       "       [ 2412.21043511]])"
      ]
     },
     "execution_count": 14,
     "metadata": {},
     "output_type": "execute_result"
    }
   ],
   "source": [
    "Y_pred"
   ]
  },
  {
   "cell_type": "code",
   "execution_count": 15,
   "metadata": {
    "collapsed": false
   },
   "outputs": [
    {
     "data": {
      "image/png": "[encoded data removed]",
      "text/plain": [
       "<matplotlib.figure.Figure at 0x10b1f4588>"
      ]
     },
     "metadata": {},
     "output_type": "display_data"
    }
   ],
   "source": [
    "# Plot outputs\n",
    "plt.plot(X_train, Y_train, color='black', linewidth=1)\n",
    "plt.plot(X_test, Y_pred, color='blue', linewidth=5)\n",
    "plt.plot([1900, 2500], [1900, 2500], color='green', linewidth=1)\n",
    "\n",
    "plt.show()"
   ]
  },
  {
   "cell_type": "code",
   "execution_count": 16,
   "metadata": {
    "collapsed": false
   },
   "outputs": [
    {
     "data": {
      "image/png": "[encoded data removed]",
      "text/plain": [
       "<matplotlib.figure.Figure at 0x10b1f4e80>"
      ]
     },
     "metadata": {},
     "output_type": "display_data"
    }
   ],
   "source": [
    "plt.plot(X_test, Y_pred, color='blue', linewidth=5)\n",
    "plt.show()"
   ]
  },
  {
   "cell_type": "code",
   "execution_count": null,
   "metadata": {
    "collapsed": true
   },
   "outputs": [],
   "source": []
  }
 ],
 "metadata": {
  "kernelspec": {
   "display_name": "mlenv",
   "language": "python",
   "name": "mlenv"
  },
  "language_info": {
   "codemirror_mode": {
    "name": "ipython",
    "version": 3
   },
   "file_extension": ".py",
   "mimetype": "text/x-python",
   "name": "python",
   "nbconvert_exporter": "python",
   "pygments_lexer": "ipython3",
   "version": "3.5.2"
  }
 },
 "nbformat": 4,
 "nbformat_minor": 2
}
